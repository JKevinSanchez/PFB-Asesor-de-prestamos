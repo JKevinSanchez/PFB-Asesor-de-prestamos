{
 "cells": [
  {
   "cell_type": "markdown",
   "metadata": {},
   "source": [
    "#### Mejorar el tratado de NaNs"
   ]
  },
  {
   "cell_type": "code",
   "execution_count": null,
   "metadata": {},
   "outputs": [],
   "source": [
    "import pandas as pd\n",
    "import numpy as np\n",
    "import random\n",
    "\n",
    "df = pd.read_csv(\"c:/Users/leons/Downloads/prestamos/accepted_2007_to_2018Q4.csv\")"
   ]
  },
  {
   "cell_type": "code",
   "execution_count": null,
   "metadata": {},
   "outputs": [],
   "source": [
    "# Revisar la cantidad de NaNs\n",
    "\n",
    "df.isna().sum()  # Conteo de NaNs por columna\n",
    "df.isna().mean() # Proporción de NaNs por columna"
   ]
  },
  {
   "cell_type": "code",
   "execution_count": 16,
   "metadata": {},
   "outputs": [],
   "source": [
    "# Eliminacion de NaNs \n",
    "\n",
    "df_cleaned = df.dropna(axis=0) # Filas con muchos NaNs\n",
    "df_cleaned = df.dropna(axis=1, thresh=int(df.shape[0] * 0.9))  # Mantener columnas con al menos el 90% de los datos"
   ]
  },
  {
   "cell_type": "code",
   "execution_count": null,
   "metadata": {},
   "outputs": [],
   "source": [
    "# Imputación de NaNs \n",
    "\n",
    "# Selecciona solo las columnas numéricas, dejando de lado las categóricas & type(string)\n",
    "df_numeric = df.select_dtypes(include=[np.number])\n",
    "\n",
    "# Aplicar el KNNImputer solo a las columnas numéricas\n",
    "from sklearn.impute import KNNImputer\n",
    "imputer = KNNImputer(n_neighbors = 5)\n",
    "df_imputed = imputer.fit_transform(df_numeric)\n",
    "\n",
    "# Convertir de nuevo a DataFrame\n",
    "df_imputed = pd.DataFrame(df_imputed, columns=df_numeric.columns)"
   ]
  },
  {
   "cell_type": "code",
   "execution_count": null,
   "metadata": {},
   "outputs": [],
   "source": [
    "# Técnicas de imputación multiple\n",
    "\n",
    "from fancyimpute import IterativeImputer\n",
    "\n",
    "# Filtrar solo las columnas numéricas\n",
    "df_numeric = df.select_dtypes(include=[np.number])\n",
    "\n",
    "# Aplicar el IterativeImputer a las columnas numéricas\n",
    "imputer = IterativeImputer()\n",
    "df_numeric_imputed = imputer.fit_transform(df_numeric)\n",
    "\n",
    "# Convertir el resultado a un DataFrame\n",
    "df_numeric_imputed = pd.DataFrame(df_numeric_imputed, columns=df_numeric.columns)\n",
    "\n",
    "# Filtrar columnas no numéricas (como texto o categóricas)\n",
    "df_non_numeric = df.select_dtypes(exclude=[np.number])\n",
    "\n",
    "# Rellenar los NaNs en las columnas categóricas con la moda (valor más frecuente)\n",
    "df_non_numeric_imputed = df_non_numeric.apply(lambda x: x.fillna(x.mode()[0]))\n",
    "\n",
    "# Unir las columnas imputadas (numéricas y no numéricas)\n",
    "df_final = pd.concat([df_numeric_imputed, df_non_numeric_imputed], axis=1)\n",
    "\n",
    "# Filtrar columnas no numéricas (como texto o categóricas)\n",
    "df_non_numeric = df.select_dtypes(exclude=[np.number])\n",
    "\n",
    "# Rellenar los NaNs en las columnas categóricas con la moda (valor más frecuente)\n",
    "df_non_numeric_imputed = df_non_numeric.apply(lambda x: x.fillna(x.mode()[0]))\n",
    "\n",
    "# Unir las columnas imputadas (numéricas y no numéricas)\n",
    "df_final = pd.concat([df_numeric_imputed, df_non_numeric_imputed], axis=1)\n",
    "\n",
    "# Ver las columnas no numéricas\n",
    "df_non_numeric = df.select_dtypes(exclude=[np.number])\n",
    "print(df_non_numeric.head())"
   ]
  }
 ],
 "metadata": {
  "kernelspec": {
   "display_name": "Python 3",
   "language": "python",
   "name": "python3"
  },
  "language_info": {
   "codemirror_mode": {
    "name": "ipython",
    "version": 3
   },
   "file_extension": ".py",
   "mimetype": "text/x-python",
   "name": "python",
   "nbconvert_exporter": "python",
   "pygments_lexer": "ipython3",
   "version": "3.10.8"
  }
 },
 "nbformat": 4,
 "nbformat_minor": 2
}
