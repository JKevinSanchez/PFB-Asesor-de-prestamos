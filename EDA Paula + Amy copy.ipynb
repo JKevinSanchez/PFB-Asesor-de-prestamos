{
 "cells": [
  {
   "cell_type": "code",
   "execution_count": null,
   "metadata": {},
   "outputs": [],
   "source": [
    "import pandas as pd\n",
    "\n",
    "import random\n",
    "\n",
    "f= \"accepted_2007_to_2018Q4.csv\"\n",
    "\n",
    "num_lines = sum(1 for i in open(f))\n",
    "\n",
    "num_lines\n",
    "\n",
    "size= 2_200_000\n",
    "\n",
    "size\n",
    "\n",
    "ids= random.sample(range (1, num_lines),size)\n",
    "\n",
    "len(ids)\n",
    "\n",
    "df= pd.read_csv(f, skiprows= ids)\n",
    "\n",
    "df.head()"
   ]
  },
  {
   "cell_type": "code",
   "execution_count": null,
   "metadata": {},
   "outputs": [],
   "source": [
    "import pandas as pd\n",
    "import random\n",
    "\n",
    "f = \"accepted_2007_to_2018Q4.csv\"\n",
    "\n",
    "def limpieza_data():\n",
    "    num_lines = sum(1 for i in open(f))\n",
    "\n",
    "    size = 2_200_000\n",
    "    ids = random.sample(range(1, num_lines), size)\n",
    "\n",
    "    column_types = {\n",
    "        '0': 'str',      \n",
    "        '19': 'float',\n",
    "        '59': 'str',\n",
    "        '118': 'str',\n",
    "        '129': 'float',\n",
    "        '130': 'float',\n",
    "        '131': 'str',\n",
    "        '134': 'str',\n",
    "        '135': 'float',\n",
    "        '136': 'str',\n",
    "        '139': 'float',\n",
    "    }\n",
    "\n",
    "    df = pd.read_csv(f, skiprows=ids, low_memory=False, dtype=column_types)\n",
    "\n",
    "    # Limpieza de NaNs\n",
    "    num = 150000\n",
    "    num_nans = df.isnull().sum()\n",
    "    columns_menos_nans = num_nans[num_nans < num].index\n",
    "    df_sin_nans = df[columns_menos_nans]\n",
    "\n",
    "    # Selección de columnas útiles\n",
    "    df_limpio = df_sin_nans[[\n",
    "        \"id\",\n",
    "        \"loan_amnt\",\n",
    "        \"funded_amnt\",\n",
    "        \"term\",\n",
    "        \"int_rate\",\n",
    "        \"installment\",\n",
    "        \"grade\",\n",
    "        \"emp_length\",\n",
    "        \"annual_inc\",\n",
    "        \"dti\",\n",
    "        \"fico_range_high\",\n",
    "        \"fico_range_low\",\n",
    "        \"revol_util\",\n",
    "        \"loan_status\",\n",
    "        \"out_prncp\",\n",
    "        \"total_rec_prncp\",\n",
    "        \"total_rec_int\",\n",
    "        \"last_fico_range_high\",\n",
    "        \"last_fico_range_low\",\n",
    "        \"open_acc\",\n",
    "        \"pub_rec\",\n",
    "        \"inq_last_6mths\",\n",
    "        \"purpose\",\n",
    "        \"home_ownership\",\n",
    "        \"recoveries\",\n",
    "        \"num_tl_90g_dpd_24m\",\n",
    "        \"delinq_2yrs\"\n",
    "    ]]\n",
    "\n",
    "    return df_limpio\n",
    "\n",
    "df_limpio = limpieza_data()\n"
   ]
  },
  {
   "cell_type": "code",
   "execution_count": null,
   "metadata": {},
   "outputs": [],
   "source": [
    "df_limpio.to_csv(\"df_limpio_procesado.csv\", index=False)\n"
   ]
  },
  {
   "cell_type": "code",
   "execution_count": null,
   "metadata": {},
   "outputs": [],
   "source": [
    "print(df_limpio.head())"
   ]
  },
  {
   "cell_type": "code",
   "execution_count": null,
   "metadata": {},
   "outputs": [],
   "source": [
    "import matplotlib.pyplot as plt\n",
    "import seaborn as sns\n",
    "import numpy as np\n",
    "\n",
    "pd.set_option(\"display.max_columns\", None)\n",
    "df_limpio"
   ]
  },
  {
   "cell_type": "code",
   "execution_count": null,
   "metadata": {},
   "outputs": [],
   "source": [
    "print(df_limpio.shape)\n",
    "print(df_limpio.dtypes)"
   ]
  },
  {
   "cell_type": "code",
   "execution_count": null,
   "metadata": {},
   "outputs": [],
   "source": [
    "print(df_limpio.describe())"
   ]
  },
  {
   "cell_type": "code",
   "execution_count": null,
   "metadata": {},
   "outputs": [],
   "source": [
    "print(df_limpio.isnull().sum())"
   ]
  },
  {
   "cell_type": "code",
   "execution_count": null,
   "metadata": {},
   "outputs": [],
   "source": [
    "print(df_limpio[df_limpio[\"loan_amnt\"].astype(str).str.contains(\"Total amount funded\", na = False)])\n",
    "\n",
    "df_limpio = df_limpio[~df_limpio[\"loan_amnt\"].astype(str).str.contains(\"Total amount funded\", na = False)]\n",
    "print(df_limpio[df_limpio[\"loan_amnt\"].astype(str).str.contains(\"Total amount funded\", na = False)])\n",
    "\n",
    "df_limpio[\"int_rate\"] = df_limpio[\"int_rate\"].astype(str).str.rstrip(\"%\")\n",
    "df_limpio[\"int_rate\"] = pd.to_numeric(df_limpio[\"int_rate\"], errors = \"coerce\") / 100\n",
    "\n",
    "#Quitamos las dos ultimas filas del dataframe, ya que no nos sirven\n",
    "df_limpio = df_limpio.drop(df_limpio.tail(2).index)"
   ]
  },
  {
   "cell_type": "code",
   "execution_count": null,
   "metadata": {},
   "outputs": [],
   "source": [
    "columnas = [\"loan_amnt\", \"int_rate\", \"annual_inc\", \"dti\"]\n",
    "\n",
    "limites = {\n",
    "    \"loan_amnt\": None, \n",
    "    \"int_rate\": None, \n",
    "    \"annual_inc\": (0, 100000), \n",
    "    \"dti\": (0, 40) \n",
    "}\n",
    "\n",
    "plt.figure(figsize=(14, 18))\n",
    "\n",
    "for i, var in enumerate(columnas, 1):\n",
    "    plt.subplot(2, 2, i)\n",
    "\n",
    "    sns.violinplot(x=\"loan_status\",\n",
    "                   y=var,\n",
    "                   data=df_limpio,\n",
    "                   palette=\"pastel\",\n",
    "                   hue=\"loan_status\",\n",
    "                   legend=False)\n",
    "    \n",
    "    # Ajustar los límites del eje Y según la variable\n",
    "    if limites[var] is not None:\n",
    "        plt.ylim(limites[var])\n",
    "    \n",
    "    plt.xticks(rotation=90)\n",
    "    plt.title(f\"Distribución de {var} según loan_status\")\n",
    "\n",
    "plt.tight_layout()\n",
    "plt.show()\n"
   ]
  },
  {
   "cell_type": "code",
   "execution_count": null,
   "metadata": {},
   "outputs": [],
   "source": [
    "#en el dti podemos ver como al aumentar relacion deuda-ingreso hay mas impagos, cuando esta baja hay mas pagados\n",
    "#con el anual_int no podemos ver tan clara esta relacion"
   ]
  },
  {
   "cell_type": "code",
   "execution_count": null,
   "metadata": {},
   "outputs": [],
   "source": [
    "for i in columnas:\n",
    "    plt.figure(figsize=(8, 4))\n",
    "    plt.hist(df_limpio[i].dropna(), bins=30, color='skyblue', edgecolor='black')\n",
    "    plt.title(f'Distribution of {i}', fontsize=14)\n",
    "    plt.xlabel(i, fontsize=12)\n",
    "    plt.ylabel('Frequency', fontsize=12)\n",
    "    plt.grid(True)\n",
    "    plt.show()"
   ]
  },
  {
   "cell_type": "code",
   "execution_count": null,
   "metadata": {},
   "outputs": [],
   "source": [
    "columnas_categoricas = [\"grade\", \"term\", \"purpose\", \"home_ownership\", \"loan_status\"]\n",
    "\n",
    "plt.figure(figsize=(16, 22))\n",
    "\n",
    "for i, columna in enumerate(columnas_categoricas, 1):\n",
    "    plt.subplot(3, 2, i)\n",
    "    \n",
    "    sns.countplot(data = df_limpio,\n",
    "                  x = columna,\n",
    "                  palette = \"pastel\",\n",
    "                  hue = \"loan_status\")\n",
    "    \n",
    "    plt.title(f\"Distribución de {columna} según loan_status\")\n",
    "    plt.xticks(rotation = 25)\n",
    "    plt.legend(title = \"loan_status\",\n",
    "               fontsize = 8,\n",
    "               title_fontsize = 10,\n",
    "               loc = \"upper right\")\n",
    "    \n",
    "plt.tight_layout()\n",
    "plt.show()"
   ]
  },
  {
   "cell_type": "code",
   "execution_count": null,
   "metadata": {},
   "outputs": [],
   "source": [
    "#Valores que no se han convertido bien\n",
    "valores_invalidos = df_limpio[pd.to_numeric(df_limpio[\"int_rate\"], errors = \"coerce\").isna()]\n",
    "print(valores_invalidos)"
   ]
  },
  {
   "cell_type": "code",
   "execution_count": null,
   "metadata": {},
   "outputs": [],
   "source": [
    "df_limpio[\"int_rate\"] = df_limpio[\"int_rate\"].astype(str)\n",
    "df_limpio[\"int_rate\"] = df_limpio[\"int_rate\"].str.rstrip(\"%\")\n",
    "df_limpio[\"int_rate\"] = pd.to_numeric(df_limpio[\"int_rate\"], errors = \"coerce\") / 100\n",
    "\n",
    "valores_invalidos = df_limpio[df_limpio[\"int_rate\"].isna()]\n",
    "print(\"Valores no convertidos correctamente (NaN):\")\n",
    "print(valores_invalidos)"
   ]
  },
  {
   "cell_type": "code",
   "execution_count": null,
   "metadata": {},
   "outputs": [],
   "source": [
    "n_nans = df_limpio.isnull().sum().to_frame(name = \"null_counts\")\n",
    "n_nans.reset_index(inplace=True)\n",
    "n_nans.columns = [\"columna\", \"numero_nans\"]\n",
    "n_nans #Para ver cuantos nans tiene cada columna"
   ]
  },
  {
   "cell_type": "code",
   "execution_count": null,
   "metadata": {},
   "outputs": [],
   "source": [
    "# Limpieza de columnas\n",
    "#Limpieza de las filas con nans en base a term, ya que no sirven\n",
    "pd.set_option(\"display.max_rows\", 30)\n",
    "df_limpio = df_limpio.dropna(subset = [\"term\"])\n",
    "\n",
    "# Columna term a term_months para dejar solo un int8\n",
    "df_limpio[\"term_months\"] = pd.to_numeric(df_limpio[\"term\"].str.extract(r\"(\\d+)\")[0], errors = \"coerce\").astype(np.int8)\n",
    "df_limpio = df_limpio.drop(columns=[\"term\"])\n",
    "\n",
    "# Columna emp_length a emp_length_years para eliminar la cadena \"years\"\n",
    "df_limpio[\"emp_length_years\"] = df_limpio[\"emp_length\"].str.replace(r\"[^0-9+]\", \"\", regex = True)\n",
    "df_limpio = df_limpio.drop(columns=[\"emp_length\"])\n",
    "\n",
    "df_limpio"
   ]
  },
  {
   "cell_type": "code",
   "execution_count": null,
   "metadata": {},
   "outputs": [],
   "source": [
    "df_numerico = df_limpio.select_dtypes(include = [np.number])\n",
    "\n",
    "matriz_correlacion = df_numerico.corr()\n",
    "\n",
    "plt.figure(figsize = (12, 8))\n",
    "\n",
    "sns.heatmap(matriz_correlacion,\n",
    "            annot = True,\n",
    "            cmap = \"coolwarm\",\n",
    "            fmt = \".2f\")\n",
    "\n",
    "plt.title(\"Matriz de correlación en base a loan_status\")\n",
    "plt.show()"
   ]
  },
  {
   "cell_type": "code",
   "execution_count": null,
   "metadata": {},
   "outputs": [],
   "source": [
    "#aqui no se puede relacionar con las variables categoricas(entre ellas loan_status) creo que habria que quitarlo y hacerlo despues del onehotencoder y label encoder."
   ]
  },
  {
   "cell_type": "code",
   "execution_count": null,
   "metadata": {},
   "outputs": [],
   "source": [
    "plt.figure(figsize = (18, 6))\n",
    "sns.scatterplot(data = df_limpio,\n",
    "                x = \"loan_amnt\",\n",
    "                y = \"annual_inc\",\n",
    "                hue = \"loan_status\",\n",
    "                palette = \"pastel\",\n",
    "                alpha = 0.7)\n",
    "\n",
    "plt.title(\"Relación entre loan_amnt y annual_inc según loan_status\")\n",
    "plt.xlabel(\"Monto del préstamo\")\n",
    "plt.ylabel(\"Ingreso anual\")\n",
    "\n",
    "plt.legend(title = \"Estado del préstamo\",\n",
    "           loc = \"upper right\")\n",
    "\n",
    "plt.show()"
   ]
  },
  {
   "cell_type": "code",
   "execution_count": null,
   "metadata": {},
   "outputs": [],
   "source": [
    "import plotly.express as px\n",
    "\n",
    "columnas_boxplot = [\"loan_amnt\", \"annual_inc\", \"dti\"]\n",
    "\n",
    "for columna in columnas_boxplot:\n",
    "    fig = px.box(df_limpio,\n",
    "                 x = \"loan_status\",\n",
    "                 y = columna,\n",
    "                 title = f\"Boxplot de {columna} según loan_status\",\n",
    "                 color = \"loan_status\",\n",
    "                 color_discrete_sequence = px.colors.qualitative.Pastel)\n",
    "\n",
    "    fig.show()"
   ]
  },
  {
   "cell_type": "code",
   "execution_count": null,
   "metadata": {},
   "outputs": [],
   "source": [
    "# estos boxplots son lo mismo que los violines de arriba, los quitamos o lo dejamos pero hacemos que se vea mejor?"
   ]
  },
  {
   "cell_type": "code",
   "execution_count": null,
   "metadata": {},
   "outputs": [],
   "source": []
  },
  {
   "cell_type": "code",
   "execution_count": null,
   "metadata": {},
   "outputs": [],
   "source": []
  }
 ],
 "metadata": {
  "kernelspec": {
   "display_name": "Python 3 (ipykernel)",
   "language": "python",
   "name": "python3"
  },
  "language_info": {
   "codemirror_mode": {
    "name": "ipython",
    "version": 3
   },
   "file_extension": ".py",
   "mimetype": "text/x-python",
   "name": "python",
   "nbconvert_exporter": "python",
   "pygments_lexer": "ipython3",
   "version": "3.12.4"
  }
 },
 "nbformat": 4,
 "nbformat_minor": 4
}
