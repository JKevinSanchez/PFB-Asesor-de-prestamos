{
 "cells": [
  {
   "cell_type": "markdown",
   "metadata": {},
   "source": [
    "# Métodos de Fine-Tuning"
   ]
  },
  {
   "cell_type": "markdown",
   "metadata": {},
   "source": [
    "### Optimización de Tukey's Fence:\n",
    "#### 1. Ajustar el valor de k:\n",
    "##### Reducir 𝑘 puede capturar más outliers, mientras que aumentarlo puede permitir la conservación de datos cercanos a los bordes.\n",
    "##### Usa visualización de la distribución (boxplots) para entender si los valores extremos realmente deben ser tratados como outliers.\n",
    "\n",
    "#### 2. Winsorización combinada:\n",
    "##### En lugar de eliminar los outliers, podrías limitar (winsorize) los valores atípicos a un valor máximo y mínimo razonable.\n",
    "\n",
    "#### 3. Visualización y análisis contextual:\n",
    "##### Asegúrate de que los outliers identificados no contengan información importante. Algunos valores atípicos pueden tener significado contextual y no deben eliminarse sin más."
   ]
  },
  {
   "cell_type": "code",
   "execution_count": 6,
   "metadata": {},
   "outputs": [],
   "source": [
    "import numpy as np\n",
    "import pandas as pd\n",
    "\n",
    "df = pd.read_csv(\"C:/Users/leons/Downloads/prestamos/rejected_2007_to_2018Q4.csv\")\n",
    "\n",
    "def tukeys_fence(df, column, k=1.5):\n",
    "    Q1 = df[column].quantile(0.25)\n",
    "    Q3 = df[column].quantile(0.75)\n",
    "    IQR = Q3 - Q1\n",
    "    \n",
    "    lower_bound = Q1 - k * IQR\n",
    "    upper_bound = Q3 + k * IQR\n",
    "    \n",
    "    # Filtrar los valores fuera de los límites\n",
    "    df_filtrado = df[(df[column] >= lower_bound) & (df[column] <= upper_bound)]\n",
    "    return df_filtrado"
   ]
  },
  {
   "cell_type": "code",
   "execution_count": null,
   "metadata": {},
   "outputs": [],
   "source": [
    "from sklearn.cluster import DBSCAN\n",
    "from sklearn.preprocessing import StandardScaler\n",
    "\n",
    "# Escalar los datos\n",
    "scaler = StandardScaler()\n",
    "data_scaled = scaler.fit_transform(df)\n",
    "\n",
    "# Definir el modelo DBSCAN\n",
    "dbscan = DBSCAN(eps=0.5, min_samples=5)\n",
    "\n",
    "# Ajustar el modelo a los datos\n",
    "dbscan.fit(data_scaled)\n",
    "\n",
    "# Identificar los outliers (etiquetados como -1 por DBSCAN)\n",
    "outliers = df[dbscan.labels_ == -1]\n",
    "\n",
    "## Tengo que soliconar un problema con los floats, pero funciona bien si no los toma en cuenta"
   ]
  },
  {
   "cell_type": "code",
   "execution_count": null,
   "metadata": {},
   "outputs": [],
   "source": [
    "from imblearn.over_sampling import SMOTE\n",
    "from sklearn.model_selection import train_test_split\n",
    "from sklearn.preprocessing import LabelEncoder\n",
    "from collections import Counter\n",
    "\n",
    "X = df.drop('Zip Code', axis = 1)\n",
    "y = df['Zip Code']\n",
    "\n",
    "# Si hay columnas categóricas en X, debemos convertirlas a numéricas\n",
    "for column in X.columns:\n",
    "    if X[column].dtype == 'object':  # Si la columna es de tipo object (cadenas de texto)\n",
    "        le = LabelEncoder()\n",
    "        X[column] = le.fit_transform(X[column])  # Convertir a valores numéricos\n",
    "\n",
    "# Convertir la columna objetivo (Zip Code) a numérica si es de tipo cadena\n",
    "if y.dtype == 'object':\n",
    "    le_y = LabelEncoder()\n",
    "    y = le_y.fit_transform(y)  # Convertir Zip Code a valores numéricos\n",
    "\n",
    "X = X.fillna(X.mean())\n",
    "\n",
    "print(f\"Distribución de clases antes de SMOTE: {Counter(y)}\")\n",
    "\n",
    "smote = SMOTE(k_neighbors = 4)\n",
    "\n",
    "X_resampled, y_resampled = smote.fit_resample(X, y)\n",
    "\n",
    "print(X_resampled)\n",
    "print(y_resampled)"
   ]
  }
 ],
 "metadata": {
  "kernelspec": {
   "display_name": "Python 3",
   "language": "python",
   "name": "python3"
  },
  "language_info": {
   "codemirror_mode": {
    "name": "ipython",
    "version": 3
   },
   "file_extension": ".py",
   "mimetype": "text/x-python",
   "name": "python",
   "nbconvert_exporter": "python",
   "pygments_lexer": "ipython3",
   "version": "3.10.8"
  }
 },
 "nbformat": 4,
 "nbformat_minor": 2
}
